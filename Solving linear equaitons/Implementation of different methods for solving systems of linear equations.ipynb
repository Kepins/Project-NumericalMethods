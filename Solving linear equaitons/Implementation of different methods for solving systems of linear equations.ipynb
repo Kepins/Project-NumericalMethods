{
 "cells": [
  {
   "cell_type": "markdown",
   "id": "0521506a",
   "metadata": {},
   "source": [
    "# Functions and classes used to solve systems of linear equations"
   ]
  },
  {
   "cell_type": "markdown",
   "id": "31dc9641",
   "metadata": {},
   "source": [
    "## Prepare functions used throughout program"
   ]
  },
  {
   "cell_type": "markdown",
   "id": "fcecc6f1",
   "metadata": {},
   "source": [
    "### Import necessary libraries"
   ]
  },
  {
   "cell_type": "code",
   "execution_count": 1,
   "id": "9fb8526b",
   "metadata": {},
   "outputs": [],
   "source": [
    "import math\n",
    "import copy\n",
    "import time\n",
    "%matplotlib inline\n",
    "\n",
    "from IPython.display import display, Math, Latex\n",
    "import matplotlib.pyplot as plt\n",
    "from matplotlib import rcParams\n",
    "rcParams['figure.figsize'] = 14,8"
   ]
  },
  {
   "cell_type": "markdown",
   "id": "31467d70",
   "metadata": {},
   "source": [
    "### Vector\n",
    "Allows for addition and dot product calculations"
   ]
  },
  {
   "cell_type": "code",
   "execution_count": 2,
   "id": "b0827dae",
   "metadata": {},
   "outputs": [],
   "source": [
    "class Vector():\n",
    "    def __init__(self, l:list):\n",
    "        self.l = l.copy()\n",
    "        \n",
    "        # how many numbers to print before replacing them with dots\n",
    "        self.print_befor_dots = 4\n",
    "        # how wide will the numbers be\n",
    "        self.num_len = 6\n",
    "    def __len__(self):\n",
    "        return len(self.l)\n",
    "\n",
    "    def __getitem__(self, item):\n",
    "        return self.l[item]\n",
    "\n",
    "    def __setitem__(self, key, value):\n",
    "        self.l[key] = value\n",
    "\n",
    "    def __neg__(self):\n",
    "        return Vector([-elem for elem in self.l])\n",
    "\n",
    "    def __add__(self, other):\n",
    "        if isinstance(other, Vector) and len(self) == len(other):\n",
    "            return Vector([e1+e2 for e1, e2 in zip(self.l, other.l)])\n",
    "        else:\n",
    "            raise ValueError(\"Addition operand is not a proper vector\")\n",
    "\n",
    "    def __sub__(self, other):\n",
    "        if isinstance(other, Vector) and len(self) == len(other):\n",
    "            return self + (-other)\n",
    "        else:\n",
    "            raise ValueError(\"Substraction operand is not a proper vector\")\n",
    "\n",
    "    #dot product\n",
    "    def __mul__(self, other):\n",
    "        if isinstance(other, Vector) and len(self) == len(other):\n",
    "            vect = other\n",
    "            sum = 0\n",
    "            for i in range(len(self.l)):\n",
    "                sum += self[i] * vect[i]\n",
    "            return sum\n",
    "        else:\n",
    "            raise ValueError(\"Dot product operand is not a proper vector\")\n",
    "\n",
    "    def __str__(self):\n",
    "        l_len = len(self.l)\n",
    "        if l_len < self.print_befor_dots *2 + 1:\n",
    "            string = '| '\n",
    "            for i in range(l_len):\n",
    "                round_to = self.num_len-2 if float(self.l[i]) > 0  else self.num_len-3\n",
    "                fl_str = str(round(float(self.l[i]), round_to))\n",
    "                zeroes = '0' * (self.num_len-len(fl_str))\n",
    "                fl_str = fl_str + zeroes\n",
    "                string += fl_str\n",
    "                if i < l_len - 1:\n",
    "                    string += ', '\n",
    "            string += ' |'\n",
    "            return string\n",
    "        string = '| '\n",
    "        for i in range(self.print_befor_dots):\n",
    "            round_to = self.num_len-2 if float(self.l[i]) > 0  else self.num_len-3\n",
    "            fl_str = str(round(float(self.l[i]), round_to))\n",
    "            zeroes = '0' * (self.num_len - len(fl_str))\n",
    "            fl_str = fl_str + zeroes\n",
    "            string += fl_str\n",
    "            string += ', '\n",
    "        string += '... '\n",
    "        for i in range(l_len-self.print_befor_dots, l_len):\n",
    "            round_to = self.num_len-2 if float(self.l[i]) > 0  else self.num_len-3\n",
    "            fl_str = str(round(float(self.l[i]), round_to))\n",
    "            zeroes = '0' * (self.num_len - len(fl_str))\n",
    "            fl_str = fl_str + zeroes\n",
    "            string += fl_str\n",
    "            if i < l_len - 1:\n",
    "                string += ', '\n",
    "        string += ' |'\n",
    "        return string"
   ]
  },
  {
   "cell_type": "markdown",
   "id": "dc0c21cb",
   "metadata": {},
   "source": [
    "### Square matrix\n",
    "Allows multiplication with vectors and other matrices"
   ]
  },
  {
   "cell_type": "code",
   "execution_count": 3,
   "id": "9fd9f4ad",
   "metadata": {},
   "outputs": [],
   "source": [
    "class SqMatrix():\n",
    "    def __init__(self, n: int):\n",
    "        self.rows = [Vector([0 for _ in range(n)]) for _ in range(n)]\n",
    "        self.n = n\n",
    "        \n",
    "        # how many rows to print before replacing them with dots\n",
    "        self.print_befor_dots = 4\n",
    "    def __getitem__(self, item: int):\n",
    "        return self.rows[item]\n",
    "\n",
    "    def get_column(self, colnum: int):\n",
    "        column = []\n",
    "        for row in self.rows:\n",
    "            column.append(row[colnum])\n",
    "        return Vector(column)\n",
    "\n",
    "    def __mul__(self, other):\n",
    "        if isinstance(other, Vector) and len(other) == self.n:\n",
    "            vect = other\n",
    "            result = []\n",
    "            for row in self.rows:\n",
    "                curr_result = 0\n",
    "                for idx, elem_row in enumerate(row):\n",
    "                    curr_result += vect[idx] * elem_row\n",
    "                result.append(curr_result)\n",
    "            return Vector(result)\n",
    "\n",
    "        elif isinstance(other, SqMatrix) and other.n==self.n:\n",
    "            n = self.n\n",
    "            result = SqMatrix(n)\n",
    "            for rowidx in range(n):\n",
    "                for columnidx in range(n):\n",
    "                    row = self.rows[rowidx]\n",
    "                    column = other.get_column(columnidx)\n",
    "                    #dot product\n",
    "                    result[rowidx][columnidx] = row * column\n",
    "            return result\n",
    "\n",
    "        else:\n",
    "            raise ValueError(\"Multiplication operand is not a proper vector/matrix\")\n",
    "            \n",
    "    def __str__(self):\n",
    "        string = ''\n",
    "        l_rows = len(self.rows)\n",
    "        if(l_rows < self.print_befor_dots*2 + 1):\n",
    "            for row in self.rows:\n",
    "                string += row.__str__()+ '\\n'\n",
    "            return string\n",
    "        for i in range(self.print_befor_dots):\n",
    "            string += self.rows[i].__str__() + '\\n'\n",
    "        len_row = len(self.rows[0].l)\n",
    "        bef_dots_row = self.rows[0].print_befor_dots\n",
    "        num_len = self.rows[0].num_len\n",
    "        if len_row < 2*bef_dots_row + 1:\n",
    "            string+= '| '\n",
    "            for i in range(len_row):\n",
    "                elem = ' ' * ((num_len+1)//2 - 1)\n",
    "                elem += ':'\n",
    "                elem += ' ' * (num_len//2)\n",
    "                # accounts for ', '\n",
    "                elem += '  '\n",
    "                string += elem\n",
    "            # removes last two spaces that were suppose to be below ', '\n",
    "            string = string[:-2]\n",
    "        else:\n",
    "            string+= '| '\n",
    "            for _ in range(bef_dots_row):\n",
    "                elem = ' ' * ((num_len + 1) // 2 - 1)\n",
    "                elem += ':'\n",
    "                elem += ' ' * (num_len // 2)\n",
    "                # accounts for ', '\n",
    "                elem += '  '\n",
    "                string += elem\n",
    "            # accounts for '... '\n",
    "            string += ' :  '\n",
    "            for _ in range(bef_dots_row):\n",
    "                elem = ' ' * ((num_len + 1) // 2 - 1)\n",
    "                elem += ':'\n",
    "                elem += ' ' * (num_len // 2)\n",
    "                # accounts for ', '\n",
    "                elem += '  '\n",
    "                string += elem\n",
    "            # removes last two spaces that were suppose to be below ', '\n",
    "            string=string[:-2]\n",
    "        string += ' |\\n'\n",
    "\n",
    "        for i in range(l_rows - self.print_befor_dots, l_rows):\n",
    "             string += self.rows[i].__str__() + '\\n'\n",
    "        return string\n"
   ]
  },
  {
   "cell_type": "markdown",
   "id": "3ff3e321",
   "metadata": {},
   "source": [
    "### Band matrix\n",
    "only allows to store band matricies of this exact format: \n",
    "\n",
    "$$\\begin{bmatrix}\n",
    "    a_{1} & a_{2} & a_{3} & 0 &  0 & 0 & 0 & 0 & \\dots  & 0 \\\\\n",
    "    a_{2} & a_{1} & a_{2} &  a_{3} & 0 & 0 & 0 & 0 &\\dots  & 0 \\\\\n",
    "    a_{3} & a_{2} & a_{1} &  a_{2} & a_{3} & 0 & 0 & 0 &\\dots  & 0 \\\\\n",
    "    0 & a_{3} & a_{2} &  a_{1} & a_{2} & a_{3} & 0 & 0 &\\dots  & 0 \\\\\n",
    "    0 & 0 & a_{3} &  a_{2} & a_{1} & a_{2} & a_{3} & 0 &\\dots  & 0 \\\\\n",
    "    \\vdots & \\vdots & \\vdots & \\vdots & \\vdots & \\vdots & \\vdots & \\vdots & \\vdots& \\vdots \\\\\n",
    "    0 & \\dots & 0 & 0 & a_{3}  & a_{2} & a_{1} & a_{2} & a_{3}  & 0 \\\\\n",
    "    0 & \\dots & 0 & 0 & 0  & a_{3} & a_{2} & a_{1} & a_{2}  & a_{3} \\\\\n",
    "    0 & \\dots & 0 & 0 & 0  & 0 & a_{3} & a_{2} & a_{1}  & a_{2} \\\\\n",
    "    0 & \\dots & 0 & 0 & 0  & 0 & 0 & a_{3} & a_{2}  & a_{1}\n",
    "\\end{bmatrix}$$\n"
   ]
  },
  {
   "cell_type": "code",
   "execution_count": 4,
   "id": "e85f3f17",
   "metadata": {},
   "outputs": [],
   "source": [
    "class BandMatrix(SqMatrix):\n",
    "    def __init__(self, n: int, a1: float, a2: float, a3: float):\n",
    "        SqMatrix.__init__(self, n)\n",
    "\n",
    "        for i in range(self.n):\n",
    "            self[i][i] = a1\n",
    "            if i-1 > 0:\n",
    "                self[i][i-2] = a3\n",
    "                self[i][i-1] = a2\n",
    "            elif i > 0:\n",
    "                self[i][i-1] = a2\n",
    "            if i+1 < n-1:\n",
    "                self[i][i+2] = a3\n",
    "                self[i][i+1] = a2\n",
    "            elif i < n-1:\n",
    "                self[i][i+1] = a2\n"
   ]
  },
  {
   "cell_type": "markdown",
   "id": "123635b1",
   "metadata": {},
   "source": [
    "### Creating b vector\n",
    "$$b = \\begin{bmatrix}\n",
    "b_{1}, b_{2}  \\dots b_{N}\n",
    "\\end{bmatrix}$$\n",
    "\n",
    "$$\\textrm{Where:}$$\n",
    "$$b_{i} = sin(i *(f+1)))$$\n",
    "$$f = \\textrm{some constant}$$"
   ]
  },
  {
   "cell_type": "code",
   "execution_count": 5,
   "id": "df8c040d",
   "metadata": {},
   "outputs": [],
   "source": [
    "def create_b(n, f):\n",
    "    return Vector([math.sin(i*(f+1)) for i in range(1, n+1)])"
   ]
  },
  {
   "cell_type": "markdown",
   "id": "9b6c9b63",
   "metadata": {},
   "source": [
    "### Residue and Euclidean norm"
   ]
  },
  {
   "cell_type": "code",
   "execution_count": 6,
   "id": "e079874e",
   "metadata": {},
   "outputs": [],
   "source": [
    "def residue(A, b, x):\n",
    "    return A*x -b\n",
    "\n",
    "def second_norm(vect):\n",
    "    return math.sqrt(sum([pow(elem, 2) for elem in vect]))"
   ]
  },
  {
   "cell_type": "markdown",
   "id": "4c085b0c",
   "metadata": {},
   "source": [
    "### Jacobi method"
   ]
  },
  {
   "cell_type": "code",
   "execution_count": 7,
   "id": "050b6bce",
   "metadata": {},
   "outputs": [],
   "source": [
    "def jacobi(A, b, eps, max_iters=100):\n",
    "    n = len(b)\n",
    "    iters = 0\n",
    "    x = Vector([1] * n)\n",
    "    res = residue(A, b, x)\n",
    "    while second_norm(res) > eps and iters<max_iters:\n",
    "        iters+=1\n",
    "        prev_x = copy.deepcopy(x)\n",
    "        for i in range(n):\n",
    "            x[i] = b[i] - sum([ A[i][j]*prev_x[j] for j in range(0, i)]) - sum([A[i][j]*prev_x[j] for j in range(i+1, n)])\n",
    "            x[i] /= A[i][i]\n",
    "        res = residue(A, b, x)\n",
    "    return x, iters"
   ]
  },
  {
   "cell_type": "markdown",
   "id": "e8f03764",
   "metadata": {},
   "source": [
    "### Gauss–Seidel method"
   ]
  },
  {
   "cell_type": "code",
   "execution_count": 8,
   "id": "8bca8cc0",
   "metadata": {},
   "outputs": [],
   "source": [
    "def gauss_seidel(A, b, eps, max_iters=100):\n",
    "    n = len(b)\n",
    "    iters = 0\n",
    "    x = Vector([1] * n)\n",
    "    res = residue(A, b, x)\n",
    "    while second_norm(res) > eps and iters<max_iters:\n",
    "        iters+=1\n",
    "        for i in range(n):\n",
    "            x[i] = b[i] - sum([ A[i][j]*x[j] for j in range(0, i)]) - sum([A[i][j]*x[j] for j in range(i+1, n)])\n",
    "            x[i] /= A[i][i]\n",
    "        res = residue(A, b, x)\n",
    "    return x, iters"
   ]
  },
  {
   "cell_type": "markdown",
   "id": "dab71e60",
   "metadata": {},
   "source": [
    "### LU factorization"
   ]
  },
  {
   "cell_type": "code",
   "execution_count": 9,
   "id": "7a29d96f",
   "metadata": {},
   "outputs": [],
   "source": [
    "def lu_fact(A):\n",
    "    n = A.n\n",
    "    U = copy.deepcopy(A)\n",
    "\n",
    "    L = SqMatrix(n)\n",
    "    for i in range(n):\n",
    "        L[i][i] = 1\n",
    "\n",
    "    for k in range(n-1):\n",
    "        for j in range(k+1, n):\n",
    "            L[j][k] = U[j][k]/U[k][k]\n",
    "            for z in range(k, n):\n",
    "                U[j][z] = U[j][z] - L[j][k]*U[k][z]\n",
    "\n",
    "    return L, U"
   ]
  },
  {
   "cell_type": "markdown",
   "id": "1e794745",
   "metadata": {},
   "source": [
    "### Forward and backward substitutions"
   ]
  },
  {
   "cell_type": "code",
   "execution_count": 10,
   "id": "4c730f04",
   "metadata": {},
   "outputs": [],
   "source": [
    "def forward_substitution(L, b):\n",
    "    n = L.n\n",
    "    x = Vector([0]*n)\n",
    "    for i in range(n):\n",
    "        x[i] = b[i]\n",
    "        for j in range(i):\n",
    "            x[i] = x[i] - L[i][j] * x[j]\n",
    "    return x\n",
    "\n",
    "def backward_substitution(U, b):\n",
    "    n = U.n\n",
    "    x = Vector([0]*n)\n",
    "\n",
    "    # iterates for i in <n-1, 0>\n",
    "    for i in range(n-1, -1, -1):\n",
    "        x[i] = b[i]\n",
    "        #iterates for j in <n-1, i)\n",
    "        for j in range(n-1, i, -1):\n",
    "            x[i] = x[i] - U[i][j]*x[j]\n",
    "        x[i] = x[i]/U[i][i]\n",
    "    return x"
   ]
  },
  {
   "cell_type": "markdown",
   "id": "40ad498f",
   "metadata": {},
   "source": [
    "### Solving system of linear equations using LU decomposition"
   ]
  },
  {
   "cell_type": "code",
   "execution_count": 11,
   "id": "50f940f9",
   "metadata": {},
   "outputs": [],
   "source": [
    "def solve_with_LU(L,U, b):\n",
    "    y = forward_substitution(L, b)\n",
    "    return backward_substitution(U, y)\n"
   ]
  },
  {
   "cell_type": "markdown",
   "id": "9a2bb23f",
   "metadata": {},
   "source": [
    "# Solving system of linear equtions using different methods"
   ]
  },
  {
   "cell_type": "markdown",
   "id": "0a67c90d",
   "metadata": {},
   "source": [
    "## Parameters and constants"
   ]
  },
  {
   "cell_type": "markdown",
   "id": "c3de0f21",
   "metadata": {},
   "source": [
    "### Constatnts associated with my student index\n",
    "e - 4th digit \\\n",
    "f - 3rd digit \\\n",
    "c - 5th digit \\\n",
    "d - 6th digit "
   ]
  },
  {
   "cell_type": "code",
   "execution_count": 12,
   "id": "74369ec6",
   "metadata": {},
   "outputs": [],
   "source": [
    "e = 6\n",
    "f = 4\n",
    "c = 0\n",
    "d = 0"
   ]
  },
  {
   "cell_type": "markdown",
   "id": "82477104",
   "metadata": {},
   "source": [
    "### Parameters"
   ]
  },
  {
   "cell_type": "code",
   "execution_count": 13,
   "id": "26e7ddfd",
   "metadata": {},
   "outputs": [],
   "source": [
    "N = 900 + c*10 + d\n",
    "a1 = 5 + e\n",
    "a2 = a3 = -1"
   ]
  },
  {
   "cell_type": "markdown",
   "id": "192b83c3",
   "metadata": {},
   "source": [
    "### Creating system of linear equations\n",
    "\n",
    "$$ Ax = b $$\n",
    "\n",
    "$$\\begin{bmatrix}\n",
    "    a_{1} & a_{2} & a_{3} & 0 &  0 & 0 & 0 & 0 & \\dots  & 0 \\\\\n",
    "    a_{2} & a_{1} & a_{2} &  a_{3} & 0 & 0 & 0 & 0 &\\dots  & 0 \\\\\n",
    "    a_{3} & a_{2} & a_{1} &  a_{2} & a_{3} & 0 & 0 & 0 &\\dots  & 0 \\\\\n",
    "    0 & a_{3} & a_{2} &  a_{1} & a_{2} & a_{3} & 0 & 0 &\\dots  & 0 \\\\\n",
    "    0 & 0 & a_{3} &  a_{2} & a_{1} & a_{2} & a_{3} & 0 &\\dots  & 0 \\\\\n",
    "    \\vdots & \\vdots & \\vdots & \\vdots & \\vdots & \\vdots & \\vdots & \\vdots & \\vdots& \\vdots \\\\\n",
    "    0 & \\dots & 0 & 0 & a_{3}  & a_{2} & a_{1} & a_{2} & a_{3}  & 0 \\\\\n",
    "    0 & \\dots & 0 & 0 & 0  & a_{3} & a_{2} & a_{1} & a_{2}  & a_{3} \\\\\n",
    "    0 & \\dots & 0 & 0 & 0  & 0 & a_{3} & a_{2} & a_{1}  & a_{2} \\\\\n",
    "    0 & \\dots & 0 & 0 & 0  & 0 & 0 & a_{3} & a_{2}  & a_{1}\n",
    "\\end{bmatrix}\n",
    "\\begin{bmatrix}\n",
    "    x_{1} \\\\\n",
    "    x_{2} \\\\\n",
    "    x_{3} \\\\\n",
    "    x_{4} \\\\\n",
    "    x_{5} \\\\\n",
    "    \\vdots \\\\\n",
    "    x_{n-3} \\\\\n",
    "    x_{n-2} \\\\\n",
    "    x_{n-1} \\\\\n",
    "    x_{n} \n",
    "\\end{bmatrix} = \n",
    "\\begin{bmatrix}\n",
    "    sin(1*(f+1)) \\\\\n",
    "    sin(2*(f+1)) \\\\\n",
    "    sin(3*(f+1)) \\\\\n",
    "    sin(4*(f+1)) \\\\\n",
    "    sin(5*(f+1)) \\\\\n",
    "    \\vdots \\\\\n",
    "    sin((n-3)*(f+1)) \\\\\n",
    "    sin((n-2)*(f+1)) \\\\\n",
    "    sin((n-1)*(f+1)) \\\\\n",
    "    sin(n*(f+1)) \n",
    "\\end{bmatrix}$$"
   ]
  },
  {
   "cell_type": "markdown",
   "id": "7f4f4c0e",
   "metadata": {},
   "source": [
    "A matrix"
   ]
  },
  {
   "cell_type": "code",
   "execution_count": 14,
   "id": "87a37bfe",
   "metadata": {},
   "outputs": [
    {
     "name": "stdout",
     "output_type": "stream",
     "text": [
      "| 11.000, -1.000, -1.000, 0.0000, ... 0.0000, 0.0000, 0.0000, 0.0000 |\n",
      "| -1.000, 11.000, -1.000, -1.000, ... 0.0000, 0.0000, 0.0000, 0.0000 |\n",
      "| -1.000, -1.000, 11.000, -1.000, ... 0.0000, 0.0000, 0.0000, 0.0000 |\n",
      "| 0.0000, -1.000, -1.000, 11.000, ... 0.0000, 0.0000, 0.0000, 0.0000 |\n",
      "|   :       :       :       :      :    :       :       :       :    |\n",
      "| 0.0000, 0.0000, 0.0000, 0.0000, ... 11.000, -1.000, -1.000, 0.0000 |\n",
      "| 0.0000, 0.0000, 0.0000, 0.0000, ... -1.000, 11.000, -1.000, -1.000 |\n",
      "| 0.0000, 0.0000, 0.0000, 0.0000, ... -1.000, -1.000, 11.000, -1.000 |\n",
      "| 0.0000, 0.0000, 0.0000, 0.0000, ... 0.0000, -1.000, -1.000, 11.000 |\n",
      "\n"
     ]
    }
   ],
   "source": [
    "A = BandMatrix(N, a1, a2, a3)\n",
    "print(A)"
   ]
  },
  {
   "cell_type": "markdown",
   "id": "08bb5b46",
   "metadata": {},
   "source": [
    "b vector"
   ]
  },
  {
   "cell_type": "code",
   "execution_count": 15,
   "id": "d8be52f9",
   "metadata": {
    "scrolled": true
   },
   "outputs": [
    {
     "name": "stdout",
     "output_type": "stream",
     "text": [
      "| -0.959, -0.544, 0.6503, 0.9129, ... -0.930, -0.616, 0.5803, 0.9456 |\n"
     ]
    }
   ],
   "source": [
    "b = create_b(N,f)\n",
    "print(b)"
   ]
  },
  {
   "cell_type": "markdown",
   "id": "1a05ff7a",
   "metadata": {},
   "source": [
    "Epsilon"
   ]
  },
  {
   "cell_type": "code",
   "execution_count": 16,
   "id": "e240a900",
   "metadata": {},
   "outputs": [
    {
     "name": "stdout",
     "output_type": "stream",
     "text": [
      "eps = 1e-09\n"
     ]
    }
   ],
   "source": [
    "eps = pow(10, -9)\n",
    "print('eps =', eps)"
   ]
  },
  {
   "cell_type": "markdown",
   "id": "3b994f3f",
   "metadata": {},
   "source": [
    "## Solving using iterative methods"
   ]
  },
  {
   "cell_type": "markdown",
   "id": "7a4d9686",
   "metadata": {},
   "source": [
    "### Jacobi method"
   ]
  },
  {
   "cell_type": "code",
   "execution_count": 17,
   "id": "18bc2641",
   "metadata": {
    "scrolled": true
   },
   "outputs": [
    {
     "name": "stdout",
     "output_type": "stream",
     "text": [
      "Jacobi: 8.19 seconds, 26 iterations\n"
     ]
    }
   ],
   "source": [
    "start = time.time()\n",
    "x, iterations = jacobi(A,b,eps)\n",
    "stop = time.time()\n",
    "print('Jacobi: {time} seconds, {iters} iterations'.format(time=round(stop-start, 2), iters=iterations))"
   ]
  },
  {
   "cell_type": "markdown",
   "id": "c95bde64",
   "metadata": {},
   "source": [
    "Solution:"
   ]
  },
  {
   "cell_type": "code",
   "execution_count": 18,
   "id": "be83fc39",
   "metadata": {},
   "outputs": [
    {
     "name": "stdout",
     "output_type": "stream",
     "text": [
      "| -0.087, -0.046, 0.0529, 0.0752, ... -0.077, -0.050, 0.0490, 0.0859 |\n"
     ]
    }
   ],
   "source": [
    "print(x)"
   ]
  },
  {
   "cell_type": "markdown",
   "id": "1b88b0fa",
   "metadata": {},
   "source": [
    "### Gauss-Seidel method"
   ]
  },
  {
   "cell_type": "code",
   "execution_count": 19,
   "id": "4da78089",
   "metadata": {
    "scrolled": true
   },
   "outputs": [
    {
     "name": "stdout",
     "output_type": "stream",
     "text": [
      "Gauss-Seidel: 5.67 seconds, 18 iterations\n"
     ]
    }
   ],
   "source": [
    "start = time.time()\n",
    "x, iterations = gauss_seidel(A,b,eps)\n",
    "stop = time.time()\n",
    "print('Gauss-Seidel: {time} seconds, {iters} iterations'.format(time=round(stop-start, 2), iters=iterations))"
   ]
  },
  {
   "cell_type": "markdown",
   "id": "69b35d6e",
   "metadata": {},
   "source": [
    "Solution:"
   ]
  },
  {
   "cell_type": "code",
   "execution_count": 20,
   "id": "43abad13",
   "metadata": {},
   "outputs": [
    {
     "name": "stdout",
     "output_type": "stream",
     "text": [
      "| -0.087, -0.046, 0.0529, 0.0752, ... -0.077, -0.050, 0.0490, 0.0859 |\n"
     ]
    }
   ],
   "source": [
    "print(x)"
   ]
  },
  {
   "cell_type": "markdown",
   "id": "b484ef42",
   "metadata": {},
   "source": [
    "## Different parameters for the same equations"
   ]
  },
  {
   "cell_type": "code",
   "execution_count": 21,
   "id": "541d95b6",
   "metadata": {},
   "outputs": [],
   "source": [
    "N = 900 + c*10 + d\n",
    "a1 = 3\n",
    "a2 = a3 = -1"
   ]
  },
  {
   "cell_type": "markdown",
   "id": "45c4c2f8",
   "metadata": {},
   "source": [
    "A matrix"
   ]
  },
  {
   "cell_type": "code",
   "execution_count": 22,
   "id": "d0e561cc",
   "metadata": {},
   "outputs": [
    {
     "name": "stdout",
     "output_type": "stream",
     "text": [
      "| 3.0000, -1.000, -1.000, 0.0000, ... 0.0000, 0.0000, 0.0000, 0.0000 |\n",
      "| -1.000, 3.0000, -1.000, -1.000, ... 0.0000, 0.0000, 0.0000, 0.0000 |\n",
      "| -1.000, -1.000, 3.0000, -1.000, ... 0.0000, 0.0000, 0.0000, 0.0000 |\n",
      "| 0.0000, -1.000, -1.000, 3.0000, ... 0.0000, 0.0000, 0.0000, 0.0000 |\n",
      "|   :       :       :       :      :    :       :       :       :    |\n",
      "| 0.0000, 0.0000, 0.0000, 0.0000, ... 3.0000, -1.000, -1.000, 0.0000 |\n",
      "| 0.0000, 0.0000, 0.0000, 0.0000, ... -1.000, 3.0000, -1.000, -1.000 |\n",
      "| 0.0000, 0.0000, 0.0000, 0.0000, ... -1.000, -1.000, 3.0000, -1.000 |\n",
      "| 0.0000, 0.0000, 0.0000, 0.0000, ... 0.0000, -1.000, -1.000, 3.0000 |\n",
      "\n"
     ]
    }
   ],
   "source": [
    "A = BandMatrix(N, a1, a2, a3)\n",
    "print(A)"
   ]
  },
  {
   "cell_type": "markdown",
   "id": "210c8030",
   "metadata": {},
   "source": [
    "b vector"
   ]
  },
  {
   "cell_type": "code",
   "execution_count": 23,
   "id": "bb24f408",
   "metadata": {},
   "outputs": [
    {
     "name": "stdout",
     "output_type": "stream",
     "text": [
      "| -0.959, -0.544, 0.6503, 0.9129, ... -0.930, -0.616, 0.5803, 0.9456 |\n"
     ]
    }
   ],
   "source": [
    "b = create_b(N,f)\n",
    "print(b)"
   ]
  },
  {
   "cell_type": "markdown",
   "id": "3859e9a1",
   "metadata": {},
   "source": [
    "Epsilon"
   ]
  },
  {
   "cell_type": "code",
   "execution_count": 24,
   "id": "6fc9b86e",
   "metadata": {},
   "outputs": [
    {
     "name": "stdout",
     "output_type": "stream",
     "text": [
      "eps = 1e-09\n"
     ]
    }
   ],
   "source": [
    "eps = pow(10, -9)\n",
    "print('eps =', eps)"
   ]
  },
  {
   "cell_type": "markdown",
   "id": "0c3fdcac",
   "metadata": {},
   "source": [
    "## Checking if iterative methods converge for new equations"
   ]
  },
  {
   "cell_type": "markdown",
   "id": "7cf4c153",
   "metadata": {},
   "source": [
    "### Jacobi method\n"
   ]
  },
  {
   "cell_type": "code",
   "execution_count": 25,
   "id": "47bc0097",
   "metadata": {},
   "outputs": [
    {
     "name": "stdout",
     "output_type": "stream",
     "text": [
      "Jacobi method diverges\n"
     ]
    }
   ],
   "source": [
    "x, iterations = jacobi(A,b,eps, max_iters=50)\n",
    "print('Jacobi method converges') if second_norm(residue(A, b, x)) < eps else print('Jacobi method diverges')"
   ]
  },
  {
   "cell_type": "markdown",
   "id": "207d09a5",
   "metadata": {},
   "source": [
    "### Gauss-Seidel method\n",
    " "
   ]
  },
  {
   "cell_type": "code",
   "execution_count": 26,
   "id": "f9e4674a",
   "metadata": {
    "scrolled": true
   },
   "outputs": [
    {
     "name": "stdout",
     "output_type": "stream",
     "text": [
      "Gauss-Seidel method diverges\n"
     ]
    }
   ],
   "source": [
    "x, iterations = gauss_seidel(A,b,eps, max_iters=50)\n",
    "print('Gauss-Seidel method converges') if second_norm(residue(A, b, x)) < eps else print('Gauss-Seidel method diverges')"
   ]
  },
  {
   "cell_type": "markdown",
   "id": "a32ef7cc",
   "metadata": {},
   "source": [
    "## Solving new equations using LU decomposition"
   ]
  },
  {
   "cell_type": "code",
   "execution_count": 27,
   "id": "2b29e813",
   "metadata": {},
   "outputs": [
    {
     "name": "stdout",
     "output_type": "stream",
     "text": [
      "Time: 121.41\n"
     ]
    }
   ],
   "source": [
    "start = time.time()\n",
    "\n",
    "L, U = lu_fact(A)\n",
    "x = solve_with_LU(L, U, b)\n",
    "\n",
    "stop = time.time()\n",
    "print('Time: {t}'.format(t=round(stop-start, 2)))"
   ]
  },
  {
   "cell_type": "markdown",
   "id": "004f3674",
   "metadata": {},
   "source": [
    "Second norm of residue for LU decompositon"
   ]
  },
  {
   "cell_type": "code",
   "execution_count": 28,
   "id": "fa47383b",
   "metadata": {
    "scrolled": true
   },
   "outputs": [
    {
     "name": "stdout",
     "output_type": "stream",
     "text": [
      "4.775221300020724e-13\n"
     ]
    }
   ],
   "source": [
    "print(second_norm(residue(A, b, x)))"
   ]
  },
  {
   "cell_type": "markdown",
   "id": "fb489704",
   "metadata": {},
   "source": [
    "# Comparing compution times of different methods"
   ]
  },
  {
   "cell_type": "markdown",
   "id": "f7781467",
   "metadata": {},
   "source": [
    "## Parameters and constants\n",
    "\n",
    "I will be using same type of matrix just with different sizes"
   ]
  },
  {
   "cell_type": "markdown",
   "id": "36c0bc8f",
   "metadata": {},
   "source": [
    "### Parameters"
   ]
  },
  {
   "cell_type": "code",
   "execution_count": 29,
   "id": "cc8aa61b",
   "metadata": {},
   "outputs": [],
   "source": [
    "N = [100, 500, 1000, 2000, 3000]\n",
    "a1 = 5 + e\n",
    "a2 = a3 = -1"
   ]
  },
  {
   "cell_type": "markdown",
   "id": "4546f02e",
   "metadata": {},
   "source": [
    "### Equations"
   ]
  },
  {
   "cell_type": "code",
   "execution_count": 30,
   "id": "b27ff305",
   "metadata": {},
   "outputs": [],
   "source": [
    "A_list = [BandMatrix(n, a1, a2, a3) for n in N]\n",
    "b_list = [create_b(n,f) for n in N]\n",
    "eps = pow(10, -9)"
   ]
  },
  {
   "cell_type": "markdown",
   "id": "ab2ab444",
   "metadata": {},
   "source": [
    "## Calculations for each A, b"
   ]
  },
  {
   "cell_type": "code",
   "execution_count": 31,
   "id": "be778acc",
   "metadata": {
    "scrolled": false
   },
   "outputs": [],
   "source": [
    "time_jacobi = []\n",
    "time_gauss = []\n",
    "time_lu = []\n",
    "time_lu_no_fact = []\n",
    "for A, b in zip(A_list, b_list):\n",
    "    # jacobi\n",
    "    start = time.time()\n",
    "    x, iterations = jacobi(A,b,eps)\n",
    "    stop = time.time()\n",
    "    time_jacobi.append(stop-start)\n",
    "    \n",
    "    # gauss-seidel\n",
    "    start = time.time()\n",
    "    x, iterations = gauss_seidel(A,b,eps)\n",
    "    stop = time.time()\n",
    "    time_gauss.append(stop-start)\n",
    "    \n",
    "    # lu\n",
    "    start = time.time()\n",
    "\n",
    "    L, U = lu_fact(A)\n",
    "    stop_lu_fact = time.time()\n",
    "    x = solve_with_LU(L, U, b)\n",
    "    stop = time.time()\n",
    "    time_lu.append(stop-start)\n",
    "    time_lu_no_fact.append(stop-stop_lu_fact)"
   ]
  },
  {
   "cell_type": "code",
   "execution_count": 32,
   "id": "1d394b9a",
   "metadata": {
    "scrolled": false
   },
   "outputs": [
    {
     "data": {
      "image/png": "[encoded data removed]",
      "text/plain": [
       "<Figure size 1008x576 with 1 Axes>"
      ]
     },
     "metadata": {
      "needs_background": "light"
     },
     "output_type": "display_data"
    }
   ],
   "source": [
    "plt.semilogy(N, time_jacobi, label='Jacobi')\n",
    "plt.semilogy(N, time_gauss, label='Gauss-Seidel')\n",
    "plt.semilogy(N, time_lu, label='LU with factorization')\n",
    "plt.semilogy(N, time_lu_no_fact, label='LU after factorization')\n",
    "\n",
    "\n",
    "plt.grid(True)\n",
    "plt.title('Time it takes for different methods to solve systems of equations')\n",
    "plt.xlabel('Size of A matrix')\n",
    "plt.ylabel('Time[s]')\n",
    "plt.legend()\n",
    "\n",
    "plt.show()"
   ]
  },
  {
   "cell_type": "markdown",
   "id": "dbddaec8",
   "metadata": {},
   "source": [
    "# Analyzing results\n",
    "\n",
    "## Comparasion between 2 iterative methods\n",
    "\n",
    "Jacobi method takes about 8.2s to solve first problem while Gauss-Seidel method takes about 5.7s. \\\n",
    "This gives us 30% better performance using Gauss-Seidel algorithm. \\\n",
    "Both methods diverge for the second problem.\n",
    "\n",
    "## Comparasion between iterative methods and LU decomposition\n",
    "\n",
    "Process of factorization is very expensive. It has O(n^3) time complexity which can be problematic for bigger matrices. But if we have L and U matrices created solving system of linear equations has O(n^2) time complexity which is much better. If we were to only change the b vector values we would do LU factorization once and solve equations with O(n^2) time complexity. \\\n",
    "Biggest difference is the fact that in iterative methods you can adjust precision to which you want to calculate the solution. This can reduce the time to solve systems of equations significantly if you do not need very precise results.\n",
    "\n",
    "## Optimization of code\n",
    "\n",
    "Code written above gives correct results but is very inefficient. The most important thing is that default python lists are not the best data structure to use while implemanting matricies and operations on them. Also there is just a lot of room left for optimization."
   ]
  }
 ],
 "metadata": {
  "kernelspec": {
   "display_name": "Python 3 (ipykernel)",
   "language": "python",
   "name": "python3"
  },
  "language_info": {
   "codemirror_mode": {
    "name": "ipython",
    "version": 3
   },
   "file_extension": ".py",
   "mimetype": "text/x-python",
   "name": "python",
   "nbconvert_exporter": "python",
   "pygments_lexer": "ipython3",
   "version": "3.8.10"
  }
 },
 "nbformat": 4,
 "nbformat_minor": 5
}
